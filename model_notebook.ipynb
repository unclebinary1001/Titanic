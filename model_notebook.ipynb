{
 "cells": [
  {
   "cell_type": "code",
   "execution_count": 1,
   "id": "5c71267a",
   "metadata": {
    "execution": {
     "iopub.execute_input": "2024-03-24T00:12:06.422544Z",
     "iopub.status.busy": "2024-03-24T00:12:06.421693Z",
     "iopub.status.idle": "2024-03-24T00:12:20.666915Z",
     "shell.execute_reply": "2024-03-24T00:12:20.665841Z"
    },
    "papermill": {
     "duration": 14.256805,
     "end_time": "2024-03-24T00:12:20.669409",
     "exception": false,
     "start_time": "2024-03-24T00:12:06.412604",
     "status": "completed"
    },
    "tags": []
   },
   "outputs": [
    {
     "name": "stderr",
     "output_type": "stream",
     "text": [
      "2024-03-24 00:12:08.976753: E external/local_xla/xla/stream_executor/cuda/cuda_dnn.cc:9261] Unable to register cuDNN factory: Attempting to register factory for plugin cuDNN when one has already been registered\n",
      "2024-03-24 00:12:08.976859: E external/local_xla/xla/stream_executor/cuda/cuda_fft.cc:607] Unable to register cuFFT factory: Attempting to register factory for plugin cuFFT when one has already been registered\n",
      "2024-03-24 00:12:09.116595: E external/local_xla/xla/stream_executor/cuda/cuda_blas.cc:1515] Unable to register cuBLAS factory: Attempting to register factory for plugin cuBLAS when one has already been registered\n"
     ]
    }
   ],
   "source": [
    "import pandas as pd\n",
    "import os\n",
    "import tensorflow as tf\n",
    "from tensorflow.keras.preprocessing.image import ImageDataGenerator\n",
    "from tensorflow.keras.layers.experimental import preprocessing\n",
    "from tensorflow.keras.applications import InceptionV3\n",
    "from tensorflow.keras.callbacks import EarlyStopping\n",
    "from tensorflow.keras.optimizers import Adam\n",
    "from tensorflow.keras import layers, models\n",
    "from sklearn.model_selection import train_test_split\n",
    "from sklearn.preprocessing import LabelEncoder"
   ]
  },
  {
   "cell_type": "code",
   "execution_count": 2,
   "id": "2afde0d1",
   "metadata": {
    "execution": {
     "iopub.execute_input": "2024-03-24T00:12:20.697306Z",
     "iopub.status.busy": "2024-03-24T00:12:20.696625Z",
     "iopub.status.idle": "2024-03-24T00:12:20.701180Z",
     "shell.execute_reply": "2024-03-24T00:12:20.700234Z"
    },
    "papermill": {
     "duration": 0.015389,
     "end_time": "2024-03-24T00:12:20.703129",
     "exception": false,
     "start_time": "2024-03-24T00:12:20.687740",
     "status": "completed"
    },
    "tags": []
   },
   "outputs": [],
   "source": [
    "test_data_dir = '/kaggle/input/bttai-nybg-2024/BTTAIxNYBG-test.csv'\n",
    "train_data_dir = '/kaggle/input/bttai-nybg-2024/BTTAIxNYBG-train.csv'\n",
    "val_data_dir = '/kaggle/input/bttai-nybg-2024/BTTAIxNYBG-validation.csv'"
   ]
  },
  {
   "cell_type": "code",
   "execution_count": 3,
   "id": "71555741",
   "metadata": {
    "execution": {
     "iopub.execute_input": "2024-03-24T00:12:20.718432Z",
     "iopub.status.busy": "2024-03-24T00:12:20.718153Z",
     "iopub.status.idle": "2024-03-24T00:12:20.722095Z",
     "shell.execute_reply": "2024-03-24T00:12:20.721331Z"
    },
    "papermill": {
     "duration": 0.013628,
     "end_time": "2024-03-24T00:12:20.723893",
     "exception": false,
     "start_time": "2024-03-24T00:12:20.710265",
     "status": "completed"
    },
    "tags": []
   },
   "outputs": [],
   "source": [
    "test_img_dir = '/kaggle/input/bttai-nybg-2024/BTTAIxNYBG-test/BTTAIxNYBG-test/'\n",
    "train_img_dir = '/kaggle/input/bttai-nybg-2024/BTTAIxNYBG-train/BTTAIxNYBG-train/'\n",
    "val_img_dir = '/kaggle/input/bttai-nybg-2024/BTTAIxNYBG-validation/BTTAIxNYBG-validation/'"
   ]
  },
  {
   "cell_type": "code",
   "execution_count": 4,
   "id": "876c4d15",
   "metadata": {
    "execution": {
     "iopub.execute_input": "2024-03-24T00:12:20.739367Z",
     "iopub.status.busy": "2024-03-24T00:12:20.739089Z",
     "iopub.status.idle": "2024-03-24T00:12:21.050049Z",
     "shell.execute_reply": "2024-03-24T00:12:21.049074Z"
    },
    "papermill": {
     "duration": 0.321314,
     "end_time": "2024-03-24T00:12:21.052448",
     "exception": false,
     "start_time": "2024-03-24T00:12:20.731134",
     "status": "completed"
    },
    "tags": []
   },
   "outputs": [],
   "source": [
    "df_train = pd.read_csv(train_data_dir)\n",
    "df_train['imagePath'] = df_train['imageFile'].apply(lambda x: os.path.join(train_img_dir, x))"
   ]
  },
  {
   "cell_type": "code",
   "execution_count": 5,
   "id": "a620e01b",
   "metadata": {
    "execution": {
     "iopub.execute_input": "2024-03-24T00:12:21.068033Z",
     "iopub.status.busy": "2024-03-24T00:12:21.067723Z",
     "iopub.status.idle": "2024-03-24T00:12:21.114049Z",
     "shell.execute_reply": "2024-03-24T00:12:21.113312Z"
    },
    "papermill": {
     "duration": 0.056162,
     "end_time": "2024-03-24T00:12:21.116087",
     "exception": false,
     "start_time": "2024-03-24T00:12:21.059925",
     "status": "completed"
    },
    "tags": []
   },
   "outputs": [],
   "source": [
    "df_val = pd.read_csv(val_data_dir)\n",
    "df_val['imagePath'] = df_val['imageFile'].apply(lambda x: os.path.join(val_img_dir, x))"
   ]
  },
  {
   "cell_type": "code",
   "execution_count": 6,
   "id": "a7e86129",
   "metadata": {
    "execution": {
     "iopub.execute_input": "2024-03-24T00:12:21.131638Z",
     "iopub.status.busy": "2024-03-24T00:12:21.131068Z",
     "iopub.status.idle": "2024-03-24T00:12:21.155123Z",
     "shell.execute_reply": "2024-03-24T00:12:21.154459Z"
    },
    "papermill": {
     "duration": 0.03393,
     "end_time": "2024-03-24T00:12:21.157004",
     "exception": false,
     "start_time": "2024-03-24T00:12:21.123074",
     "status": "completed"
    },
    "tags": []
   },
   "outputs": [],
   "source": [
    "label_encoder = LabelEncoder()\n",
    "df_train['encoded_labels'] = label_encoder.fit_transform(df_train['classLabel'])"
   ]
  },
  {
   "cell_type": "code",
   "execution_count": 7,
   "id": "9d9a19f7",
   "metadata": {
    "execution": {
     "iopub.execute_input": "2024-03-24T00:12:21.171949Z",
     "iopub.status.busy": "2024-03-24T00:12:21.171616Z",
     "iopub.status.idle": "2024-03-24T00:12:21.189288Z",
     "shell.execute_reply": "2024-03-24T00:12:21.188565Z"
    },
    "papermill": {
     "duration": 0.027215,
     "end_time": "2024-03-24T00:12:21.191145",
     "exception": false,
     "start_time": "2024-03-24T00:12:21.163930",
     "status": "completed"
    },
    "tags": []
   },
   "outputs": [],
   "source": [
    "df_train.drop(labels=['uniqueID','source','imageFile'], axis=1, inplace=True)"
   ]
  },
  {
   "cell_type": "code",
   "execution_count": 8,
   "id": "28b439b4",
   "metadata": {
    "execution": {
     "iopub.execute_input": "2024-03-24T00:12:21.206317Z",
     "iopub.status.busy": "2024-03-24T00:12:21.205765Z",
     "iopub.status.idle": "2024-03-24T00:12:21.211196Z",
     "shell.execute_reply": "2024-03-24T00:12:21.210502Z"
    },
    "papermill": {
     "duration": 0.014937,
     "end_time": "2024-03-24T00:12:21.213089",
     "exception": false,
     "start_time": "2024-03-24T00:12:21.198152",
     "status": "completed"
    },
    "tags": []
   },
   "outputs": [],
   "source": [
    "df_val.drop(labels=['uniqueID','source','imageFile'], axis=1, inplace=True)"
   ]
  },
  {
   "cell_type": "code",
   "execution_count": 9,
   "id": "b8a0df6b",
   "metadata": {
    "execution": {
     "iopub.execute_input": "2024-03-24T00:12:21.228731Z",
     "iopub.status.busy": "2024-03-24T00:12:21.228480Z",
     "iopub.status.idle": "2024-03-24T00:12:21.241117Z",
     "shell.execute_reply": "2024-03-24T00:12:21.240244Z"
    },
    "papermill": {
     "duration": 0.023154,
     "end_time": "2024-03-24T00:12:21.243108",
     "exception": false,
     "start_time": "2024-03-24T00:12:21.219954",
     "status": "completed"
    },
    "tags": []
   },
   "outputs": [
    {
     "data": {
      "text/html": [
       "<div>\n",
       "<style scoped>\n",
       "    .dataframe tbody tr th:only-of-type {\n",
       "        vertical-align: middle;\n",
       "    }\n",
       "\n",
       "    .dataframe tbody tr th {\n",
       "        vertical-align: top;\n",
       "    }\n",
       "\n",
       "    .dataframe thead th {\n",
       "        text-align: right;\n",
       "    }\n",
       "</style>\n",
       "<table border=\"1\" class=\"dataframe\">\n",
       "  <thead>\n",
       "    <tr style=\"text-align: right;\">\n",
       "      <th></th>\n",
       "      <th>classLabel</th>\n",
       "      <th>classID</th>\n",
       "      <th>imagePath</th>\n",
       "      <th>encoded_labels</th>\n",
       "    </tr>\n",
       "  </thead>\n",
       "  <tbody>\n",
       "    <tr>\n",
       "      <th>0</th>\n",
       "      <td>occluded-specimens</td>\n",
       "      <td>8</td>\n",
       "      <td>/kaggle/input/bttai-nybg-2024/BTTAIxNYBG-train...</td>\n",
       "      <td>8</td>\n",
       "    </tr>\n",
       "    <tr>\n",
       "      <th>1</th>\n",
       "      <td>microscope-slides</td>\n",
       "      <td>6</td>\n",
       "      <td>/kaggle/input/bttai-nybg-2024/BTTAIxNYBG-train...</td>\n",
       "      <td>6</td>\n",
       "    </tr>\n",
       "    <tr>\n",
       "      <th>2</th>\n",
       "      <td>illustrations-color</td>\n",
       "      <td>2</td>\n",
       "      <td>/kaggle/input/bttai-nybg-2024/BTTAIxNYBG-train...</td>\n",
       "      <td>2</td>\n",
       "    </tr>\n",
       "    <tr>\n",
       "      <th>3</th>\n",
       "      <td>illustrations-color</td>\n",
       "      <td>2</td>\n",
       "      <td>/kaggle/input/bttai-nybg-2024/BTTAIxNYBG-train...</td>\n",
       "      <td>2</td>\n",
       "    </tr>\n",
       "    <tr>\n",
       "      <th>4</th>\n",
       "      <td>animal-specimens</td>\n",
       "      <td>0</td>\n",
       "      <td>/kaggle/input/bttai-nybg-2024/BTTAIxNYBG-train...</td>\n",
       "      <td>0</td>\n",
       "    </tr>\n",
       "  </tbody>\n",
       "</table>\n",
       "</div>"
      ],
      "text/plain": [
       "            classLabel  classID  \\\n",
       "0   occluded-specimens        8   \n",
       "1    microscope-slides        6   \n",
       "2  illustrations-color        2   \n",
       "3  illustrations-color        2   \n",
       "4     animal-specimens        0   \n",
       "\n",
       "                                           imagePath  encoded_labels  \n",
       "0  /kaggle/input/bttai-nybg-2024/BTTAIxNYBG-train...               8  \n",
       "1  /kaggle/input/bttai-nybg-2024/BTTAIxNYBG-train...               6  \n",
       "2  /kaggle/input/bttai-nybg-2024/BTTAIxNYBG-train...               2  \n",
       "3  /kaggle/input/bttai-nybg-2024/BTTAIxNYBG-train...               2  \n",
       "4  /kaggle/input/bttai-nybg-2024/BTTAIxNYBG-train...               0  "
      ]
     },
     "execution_count": 9,
     "metadata": {},
     "output_type": "execute_result"
    }
   ],
   "source": [
    "df_train.head()"
   ]
  },
  {
   "cell_type": "code",
   "execution_count": 10,
   "id": "dd321e0b",
   "metadata": {
    "execution": {
     "iopub.execute_input": "2024-03-24T00:12:21.259034Z",
     "iopub.status.busy": "2024-03-24T00:12:21.258759Z",
     "iopub.status.idle": "2024-03-24T00:12:21.262587Z",
     "shell.execute_reply": "2024-03-24T00:12:21.261801Z"
    },
    "papermill": {
     "duration": 0.013816,
     "end_time": "2024-03-24T00:12:21.264462",
     "exception": false,
     "start_time": "2024-03-24T00:12:21.250646",
     "status": "completed"
    },
    "tags": []
   },
   "outputs": [],
   "source": [
    "# update for image data generators to try\n",
    "# train_datagen = ImageDataGenerator(\n",
    "#     rescale=1./255,\n",
    "#     rotation_range=20,\n",
    "#     width_shift_range=0.2,\n",
    "#     height_shift_range=0.2\n",
    "#     shear_range=0.2,\n",
    "#     zoom_range=0.2,\n",
    "#     horizontal_flip=True,\n",
    "#     fill_mode='nearest'\n",
    "# )"
   ]
  },
  {
   "cell_type": "code",
   "execution_count": 11,
   "id": "897646f0",
   "metadata": {
    "execution": {
     "iopub.execute_input": "2024-03-24T00:12:21.279861Z",
     "iopub.status.busy": "2024-03-24T00:12:21.279571Z",
     "iopub.status.idle": "2024-03-24T00:12:21.283734Z",
     "shell.execute_reply": "2024-03-24T00:12:21.282976Z"
    },
    "papermill": {
     "duration": 0.013942,
     "end_time": "2024-03-24T00:12:21.285542",
     "exception": false,
     "start_time": "2024-03-24T00:12:21.271600",
     "status": "completed"
    },
    "tags": []
   },
   "outputs": [],
   "source": [
    "train_datagen = ImageDataGenerator(\n",
    "    rescale=1./255,\n",
    ")\n",
    "validation_datagen = ImageDataGenerator(\n",
    "    rescale=1./255,     \n",
    ")\n",
    "\n",
    "batch_size = 32 \n",
    "target_size = 512 # Tried 128, 256, 512"
   ]
  },
  {
   "cell_type": "code",
   "execution_count": 12,
   "id": "1e30dad5",
   "metadata": {
    "execution": {
     "iopub.execute_input": "2024-03-24T00:12:21.300938Z",
     "iopub.status.busy": "2024-03-24T00:12:21.300630Z",
     "iopub.status.idle": "2024-03-24T00:13:50.119093Z",
     "shell.execute_reply": "2024-03-24T00:13:50.118356Z"
    },
    "papermill": {
     "duration": 88.828537,
     "end_time": "2024-03-24T00:13:50.121286",
     "exception": false,
     "start_time": "2024-03-24T00:12:21.292749",
     "status": "completed"
    },
    "tags": []
   },
   "outputs": [
    {
     "name": "stdout",
     "output_type": "stream",
     "text": [
      "Found 81946 validated image filenames belonging to 10 classes.\n",
      "Found 10244 validated image filenames belonging to 10 classes.\n"
     ]
    }
   ],
   "source": [
    "train_generator = train_datagen.flow_from_dataframe(\n",
    "    df_train,\n",
    "    x_col='imagePath',\n",
    "    y_col='classLabel',\n",
    "    target_size=(target_size, target_size),  # Adjust based on your model requirements\n",
    "    batch_size=batch_size,\n",
    "    class_mode='categorical'\n",
    ")\n",
    "\n",
    "validation_generator = validation_datagen.flow_from_dataframe(\n",
    "    df_val,\n",
    "    x_col='imagePath',\n",
    "    y_col='classLabel',\n",
    "    target_size=(target_size, target_size),  # Adjust based on your model requirements\n",
    "    batch_size=batch_size,\n",
    "    class_mode='categorical'\n",
    ")"
   ]
  },
  {
   "cell_type": "code",
   "execution_count": 13,
   "id": "3181bd2c",
   "metadata": {
    "execution": {
     "iopub.execute_input": "2024-03-24T00:13:50.138253Z",
     "iopub.status.busy": "2024-03-24T00:13:50.137926Z",
     "iopub.status.idle": "2024-03-24T00:13:57.400450Z",
     "shell.execute_reply": "2024-03-24T00:13:57.399451Z"
    },
    "papermill": {
     "duration": 7.273746,
     "end_time": "2024-03-24T00:13:57.402961",
     "exception": false,
     "start_time": "2024-03-24T00:13:50.129215",
     "status": "completed"
    },
    "tags": []
   },
   "outputs": [
    {
     "name": "stdout",
     "output_type": "stream",
     "text": [
      "Downloading data from https://storage.googleapis.com/tensorflow/keras-applications/inception_v3/inception_v3_weights_tf_dim_ordering_tf_kernels_notop.h5\n",
      "87910968/87910968 [==============================] - 3s 0us/step\n"
     ]
    }
   ],
   "source": [
    "base_model = InceptionV3(weights='imagenet', include_top=False, input_shape=(target_size, target_size, 3))\n",
    "base_model.trainable = False\n",
    "\n",
    "model = models.Sequential([\n",
    "    base_model,\n",
    "    layers.GlobalAveragePooling2D(),\n",
    "    layers.BatchNormalization(),\n",
    "    layers.Dense(512, activation='relu'),\n",
    "    layers.Dropout(0.3),\n",
    "    layers.BatchNormalization(),\n",
    "    layers.Dense(512, activation='relu'),\n",
    "    layers.Dropout(0.2),\n",
    "    layers.BatchNormalization(),\n",
    "    layers.Dense(512, activation='relu'),\n",
    "    layers.Dropout(0.1),\n",
    "    layers.BatchNormalization(),\n",
    "    layers.Dense(len(label_encoder.classes_), activation='softmax')\n",
    "])\n",
    "\n",
    "model.compile(optimizer='adam', loss='categorical_crossentropy', metrics=['accuracy'])\n"
   ]
  },
  {
   "cell_type": "code",
   "execution_count": 14,
   "id": "94e87ded",
   "metadata": {
    "execution": {
     "iopub.execute_input": "2024-03-24T00:13:57.427287Z",
     "iopub.status.busy": "2024-03-24T00:13:57.426973Z",
     "iopub.status.idle": "2024-03-24T00:13:57.430865Z",
     "shell.execute_reply": "2024-03-24T00:13:57.429998Z"
    },
    "papermill": {
     "duration": 0.018205,
     "end_time": "2024-03-24T00:13:57.432750",
     "exception": false,
     "start_time": "2024-03-24T00:13:57.414545",
     "status": "completed"
    },
    "tags": []
   },
   "outputs": [],
   "source": [
    "# Fine-tuning to test\n",
    "# base_model.trainable = True\n",
    "# fine_tune_at = len(base_model.layers) // 2\n",
    "# for layer in base_model.layers[:fine_tune_at]:\n",
    "#     layer.trainable = False"
   ]
  },
  {
   "cell_type": "code",
   "execution_count": 15,
   "id": "3a789ddc",
   "metadata": {
    "execution": {
     "iopub.execute_input": "2024-03-24T00:13:57.456492Z",
     "iopub.status.busy": "2024-03-24T00:13:57.456225Z",
     "iopub.status.idle": "2024-03-24T00:13:57.460523Z",
     "shell.execute_reply": "2024-03-24T00:13:57.459618Z"
    },
    "papermill": {
     "duration": 0.018316,
     "end_time": "2024-03-24T00:13:57.462465",
     "exception": false,
     "start_time": "2024-03-24T00:13:57.444149",
     "status": "completed"
    },
    "tags": []
   },
   "outputs": [],
   "source": [
    "early_stopping = EarlyStopping(\n",
    "    min_delta=0.001, # minimium amount of change to count as an improvement\n",
    "    patience=8, # how many epochs to wait before stopping\n",
    "    restore_best_weights=True,\n",
    ")"
   ]
  },
  {
   "cell_type": "code",
   "execution_count": 16,
   "id": "48920692",
   "metadata": {
    "execution": {
     "iopub.execute_input": "2024-03-24T00:13:57.486443Z",
     "iopub.status.busy": "2024-03-24T00:13:57.485918Z",
     "iopub.status.idle": "2024-03-24T07:41:56.220944Z",
     "shell.execute_reply": "2024-03-24T07:41:56.219909Z"
    },
    "papermill": {
     "duration": 26882.681939,
     "end_time": "2024-03-24T07:42:00.155650",
     "exception": false,
     "start_time": "2024-03-24T00:13:57.473711",
     "status": "completed"
    },
    "tags": []
   },
   "outputs": [
    {
     "name": "stdout",
     "output_type": "stream",
     "text": [
      "Epoch 1/29\n"
     ]
    },
    {
     "name": "stderr",
     "output_type": "stream",
     "text": [
      "WARNING: All log messages before absl::InitializeLog() is called are written to STDERR\n",
      "I0000 00:00:1711239254.040024      68 device_compiler.h:186] Compiled cluster using XLA!  This line is logged at most once for the lifetime of the process.\n"
     ]
    },
    {
     "name": "stdout",
     "output_type": "stream",
     "text": [
      "2560/2560 [==============================] - 1886s 730ms/step - loss: 0.2566 - accuracy: 0.9138 - val_loss: 0.1241 - val_accuracy: 0.9568\n",
      "Epoch 2/29\n",
      "2560/2560 [==============================] - 1351s 528ms/step - loss: 0.1576 - accuracy: 0.9452 - val_loss: 0.1060 - val_accuracy: 0.9628\n",
      "Epoch 3/29\n",
      "2560/2560 [==============================] - 1338s 523ms/step - loss: 0.1351 - accuracy: 0.9523 - val_loss: 0.1138 - val_accuracy: 0.9598\n",
      "Epoch 4/29\n",
      "2560/2560 [==============================] - 1339s 523ms/step - loss: 0.1172 - accuracy: 0.9581 - val_loss: 0.1049 - val_accuracy: 0.9631\n",
      "Epoch 5/29\n",
      "2560/2560 [==============================] - 2412s 942ms/step - loss: 0.1053 - accuracy: 0.9630 - val_loss: 0.0954 - val_accuracy: 0.9662\n",
      "Epoch 6/29\n",
      "2560/2560 [==============================] - 2130s 832ms/step - loss: 0.0946 - accuracy: 0.9667 - val_loss: 0.0922 - val_accuracy: 0.9671\n",
      "Epoch 7/29\n",
      "2560/2560 [==============================] - 1336s 522ms/step - loss: 0.0850 - accuracy: 0.9694 - val_loss: 0.0881 - val_accuracy: 0.9700\n",
      "Epoch 8/29\n",
      "2560/2560 [==============================] - 1340s 523ms/step - loss: 0.0749 - accuracy: 0.9737 - val_loss: 0.0928 - val_accuracy: 0.9675\n",
      "Epoch 9/29\n",
      "2560/2560 [==============================] - 1337s 522ms/step - loss: 0.0714 - accuracy: 0.9744 - val_loss: 0.0894 - val_accuracy: 0.9691\n",
      "Epoch 10/29\n",
      "2560/2560 [==============================] - 1330s 519ms/step - loss: 0.0665 - accuracy: 0.9766 - val_loss: 0.0861 - val_accuracy: 0.9712\n",
      "Epoch 11/29\n",
      "2560/2560 [==============================] - 1394s 545ms/step - loss: 0.0622 - accuracy: 0.9776 - val_loss: 0.0873 - val_accuracy: 0.9713\n",
      "Epoch 12/29\n",
      "2560/2560 [==============================] - 1406s 549ms/step - loss: 0.0585 - accuracy: 0.9790 - val_loss: 0.0956 - val_accuracy: 0.9692\n",
      "Epoch 13/29\n",
      "2560/2560 [==============================] - 1379s 539ms/step - loss: 0.0543 - accuracy: 0.9805 - val_loss: 0.0905 - val_accuracy: 0.9712\n",
      "Epoch 14/29\n",
      "2560/2560 [==============================] - 1382s 540ms/step - loss: 0.0508 - accuracy: 0.9815 - val_loss: 0.0878 - val_accuracy: 0.9716\n",
      "Epoch 15/29\n",
      "2560/2560 [==============================] - 1368s 534ms/step - loss: 0.0476 - accuracy: 0.9828 - val_loss: 0.0958 - val_accuracy: 0.9699\n",
      "Epoch 16/29\n",
      "2560/2560 [==============================] - 1365s 533ms/step - loss: 0.0459 - accuracy: 0.9831 - val_loss: 0.0910 - val_accuracy: 0.9711\n",
      "Epoch 17/29\n",
      "2560/2560 [==============================] - 1355s 529ms/step - loss: 0.0427 - accuracy: 0.9850 - val_loss: 0.0989 - val_accuracy: 0.9702\n",
      "Epoch 18/29\n",
      "2560/2560 [==============================] - 1395s 545ms/step - loss: 0.0429 - accuracy: 0.9847 - val_loss: 0.0960 - val_accuracy: 0.9721\n"
     ]
    },
    {
     "data": {
      "text/plain": [
       "<keras.src.callbacks.History at 0x7c817151f8e0>"
      ]
     },
     "execution_count": 16,
     "metadata": {},
     "output_type": "execute_result"
    }
   ],
   "source": [
    "# Train the model\n",
    "model.fit(\n",
    "    train_generator,\n",
    "    steps_per_epoch=train_generator.samples // batch_size,\n",
    "    validation_data=validation_generator,\n",
    "    validation_steps=validation_generator.samples // batch_size,\n",
    "    callbacks=[early_stopping], \n",
    "    epochs=29 #tried 2, 5,10, 15,20, 30\n",
    ")"
   ]
  },
  {
   "cell_type": "code",
   "execution_count": 17,
   "id": "2dcbeaa6",
   "metadata": {
    "execution": {
     "iopub.execute_input": "2024-03-24T07:42:08.052799Z",
     "iopub.status.busy": "2024-03-24T07:42:08.052420Z",
     "iopub.status.idle": "2024-03-24T07:42:08.157919Z",
     "shell.execute_reply": "2024-03-24T07:42:08.156955Z"
    },
    "papermill": {
     "duration": 4.05294,
     "end_time": "2024-03-24T07:42:08.160430",
     "exception": false,
     "start_time": "2024-03-24T07:42:04.107490",
     "status": "completed"
    },
    "tags": []
   },
   "outputs": [],
   "source": [
    "df_test = pd.read_csv(test_data_dir)\n",
    "df_test['imagePath'] = df_test['imageFile'].apply(lambda x: os.path.join(test_img_dir, x))"
   ]
  },
  {
   "cell_type": "code",
   "execution_count": 18,
   "id": "5a2099ce",
   "metadata": {
    "execution": {
     "iopub.execute_input": "2024-03-24T07:42:16.163538Z",
     "iopub.status.busy": "2024-03-24T07:42:16.163184Z",
     "iopub.status.idle": "2024-03-24T07:42:16.173437Z",
     "shell.execute_reply": "2024-03-24T07:42:16.172510Z"
    },
    "papermill": {
     "duration": 3.970737,
     "end_time": "2024-03-24T07:42:16.175500",
     "exception": false,
     "start_time": "2024-03-24T07:42:12.204763",
     "status": "completed"
    },
    "tags": []
   },
   "outputs": [
    {
     "data": {
      "text/html": [
       "<div>\n",
       "<style scoped>\n",
       "    .dataframe tbody tr th:only-of-type {\n",
       "        vertical-align: middle;\n",
       "    }\n",
       "\n",
       "    .dataframe tbody tr th {\n",
       "        vertical-align: top;\n",
       "    }\n",
       "\n",
       "    .dataframe thead th {\n",
       "        text-align: right;\n",
       "    }\n",
       "</style>\n",
       "<table border=\"1\" class=\"dataframe\">\n",
       "  <thead>\n",
       "    <tr style=\"text-align: right;\">\n",
       "      <th></th>\n",
       "      <th>uniqueID</th>\n",
       "      <th>imageFile</th>\n",
       "      <th>imagePath</th>\n",
       "    </tr>\n",
       "  </thead>\n",
       "  <tbody>\n",
       "    <tr>\n",
       "      <th>0</th>\n",
       "      <td>1</td>\n",
       "      <td>facd4dcd8e869617.jpg</td>\n",
       "      <td>/kaggle/input/bttai-nybg-2024/BTTAIxNYBG-test/...</td>\n",
       "    </tr>\n",
       "    <tr>\n",
       "      <th>1</th>\n",
       "      <td>9</td>\n",
       "      <td>78c96bb2b2b62579.jpg</td>\n",
       "      <td>/kaggle/input/bttai-nybg-2024/BTTAIxNYBG-test/...</td>\n",
       "    </tr>\n",
       "    <tr>\n",
       "      <th>2</th>\n",
       "      <td>10</td>\n",
       "      <td>d292d2c4e0e6ad9d.jpg</td>\n",
       "      <td>/kaggle/input/bttai-nybg-2024/BTTAIxNYBG-test/...</td>\n",
       "    </tr>\n",
       "    <tr>\n",
       "      <th>3</th>\n",
       "      <td>14</td>\n",
       "      <td>3633494929870713.jpg</td>\n",
       "      <td>/kaggle/input/bttai-nybg-2024/BTTAIxNYBG-test/...</td>\n",
       "    </tr>\n",
       "    <tr>\n",
       "      <th>4</th>\n",
       "      <td>16</td>\n",
       "      <td>dc94b496c8e2d6c4.jpg</td>\n",
       "      <td>/kaggle/input/bttai-nybg-2024/BTTAIxNYBG-test/...</td>\n",
       "    </tr>\n",
       "  </tbody>\n",
       "</table>\n",
       "</div>"
      ],
      "text/plain": [
       "   uniqueID             imageFile  \\\n",
       "0         1  facd4dcd8e869617.jpg   \n",
       "1         9  78c96bb2b2b62579.jpg   \n",
       "2        10  d292d2c4e0e6ad9d.jpg   \n",
       "3        14  3633494929870713.jpg   \n",
       "4        16  dc94b496c8e2d6c4.jpg   \n",
       "\n",
       "                                           imagePath  \n",
       "0  /kaggle/input/bttai-nybg-2024/BTTAIxNYBG-test/...  \n",
       "1  /kaggle/input/bttai-nybg-2024/BTTAIxNYBG-test/...  \n",
       "2  /kaggle/input/bttai-nybg-2024/BTTAIxNYBG-test/...  \n",
       "3  /kaggle/input/bttai-nybg-2024/BTTAIxNYBG-test/...  \n",
       "4  /kaggle/input/bttai-nybg-2024/BTTAIxNYBG-test/...  "
      ]
     },
     "execution_count": 18,
     "metadata": {},
     "output_type": "execute_result"
    }
   ],
   "source": [
    "df_test.head()"
   ]
  },
  {
   "cell_type": "code",
   "execution_count": 19,
   "id": "d8c6d6c9",
   "metadata": {
    "execution": {
     "iopub.execute_input": "2024-03-24T07:42:23.869476Z",
     "iopub.status.busy": "2024-03-24T07:42:23.869115Z",
     "iopub.status.idle": "2024-03-24T07:43:33.756311Z",
     "shell.execute_reply": "2024-03-24T07:43:33.755446Z"
    },
    "papermill": {
     "duration": 77.736165,
     "end_time": "2024-03-24T07:43:37.698165",
     "exception": false,
     "start_time": "2024-03-24T07:42:19.962000",
     "status": "completed"
    },
    "tags": []
   },
   "outputs": [
    {
     "name": "stdout",
     "output_type": "stream",
     "text": [
      "Found 30690 validated image filenames.\n"
     ]
    }
   ],
   "source": [
    "# Evaluate the model on the test set (assuming the 'test.csv' has 'imageFile' column)\n",
    "test_datagen = ImageDataGenerator(rescale=1./255)\n",
    "test_generator = test_datagen.flow_from_dataframe(\n",
    "    df_test,\n",
    "    x_col='imagePath',\n",
    "    y_col=None,\n",
    "    target_size=(target_size, target_size),  # Adjust based on your model requirements\n",
    "    batch_size=batch_size,\n",
    "    class_mode=None,\n",
    "    shuffle=False\n",
    ")\n"
   ]
  },
  {
   "cell_type": "code",
   "execution_count": 20,
   "id": "fdb1c0ab",
   "metadata": {
    "execution": {
     "iopub.execute_input": "2024-03-24T07:43:45.563617Z",
     "iopub.status.busy": "2024-03-24T07:43:45.562769Z",
     "iopub.status.idle": "2024-03-24T07:54:36.979421Z",
     "shell.execute_reply": "2024-03-24T07:54:36.978406Z"
    },
    "papermill": {
     "duration": 655.371697,
     "end_time": "2024-03-24T07:54:36.981667",
     "exception": false,
     "start_time": "2024-03-24T07:43:41.609970",
     "status": "completed"
    },
    "tags": []
   },
   "outputs": [
    {
     "name": "stdout",
     "output_type": "stream",
     "text": [
      "960/960 [==============================] - 650s 676ms/step\n",
      "['biocultural-specimens' 'mixed-pressed-specimens' 'live-plants' ...\n",
      " 'animal-specimens' 'biocultural-specimens' 'illustrations-color']\n"
     ]
    }
   ],
   "source": [
    "# Predict on the test set\n",
    "predictions = model.predict(test_generator)\n",
    "\n",
    "# Decode predictions if needed (convert back to class labels)\n",
    "predicted_labels = label_encoder.inverse_transform(tf.argmax(predictions, axis=1))\n",
    "\n",
    "# Print or save the predicted labels as needed\n",
    "print(predicted_labels)"
   ]
  },
  {
   "cell_type": "code",
   "execution_count": 21,
   "id": "6eec41a9",
   "metadata": {
    "execution": {
     "iopub.execute_input": "2024-03-24T07:54:45.099219Z",
     "iopub.status.busy": "2024-03-24T07:54:45.098418Z",
     "iopub.status.idle": "2024-03-24T07:54:45.111931Z",
     "shell.execute_reply": "2024-03-24T07:54:45.110964Z"
    },
    "papermill": {
     "duration": 4.120339,
     "end_time": "2024-03-24T07:54:45.114546",
     "exception": false,
     "start_time": "2024-03-24T07:54:40.994207",
     "status": "completed"
    },
    "tags": []
   },
   "outputs": [
    {
     "data": {
      "text/plain": [
       "array([1, 7, 4, ..., 0, 1, 2])"
      ]
     },
     "execution_count": 21,
     "metadata": {},
     "output_type": "execute_result"
    }
   ],
   "source": [
    "label_encoder.transform(predicted_labels)"
   ]
  },
  {
   "cell_type": "code",
   "execution_count": 22,
   "id": "7adbae37",
   "metadata": {
    "execution": {
     "iopub.execute_input": "2024-03-24T07:54:53.376527Z",
     "iopub.status.busy": "2024-03-24T07:54:53.376189Z",
     "iopub.status.idle": "2024-03-24T07:54:53.388407Z",
     "shell.execute_reply": "2024-03-24T07:54:53.387598Z"
    },
    "papermill": {
     "duration": 4.075057,
     "end_time": "2024-03-24T07:54:53.390381",
     "exception": false,
     "start_time": "2024-03-24T07:54:49.315324",
     "status": "completed"
    },
    "tags": []
   },
   "outputs": [],
   "source": [
    "df_test['classID'] = label_encoder.transform(predicted_labels)"
   ]
  },
  {
   "cell_type": "code",
   "execution_count": 23,
   "id": "e4ec1de3",
   "metadata": {
    "execution": {
     "iopub.execute_input": "2024-03-24T07:55:01.508246Z",
     "iopub.status.busy": "2024-03-24T07:55:01.507731Z",
     "iopub.status.idle": "2024-03-24T07:55:01.521685Z",
     "shell.execute_reply": "2024-03-24T07:55:01.519291Z"
    },
    "papermill": {
     "duration": 4.064698,
     "end_time": "2024-03-24T07:55:01.524666",
     "exception": false,
     "start_time": "2024-03-24T07:54:57.459968",
     "status": "completed"
    },
    "tags": []
   },
   "outputs": [
    {
     "data": {
      "text/html": [
       "<div>\n",
       "<style scoped>\n",
       "    .dataframe tbody tr th:only-of-type {\n",
       "        vertical-align: middle;\n",
       "    }\n",
       "\n",
       "    .dataframe tbody tr th {\n",
       "        vertical-align: top;\n",
       "    }\n",
       "\n",
       "    .dataframe thead th {\n",
       "        text-align: right;\n",
       "    }\n",
       "</style>\n",
       "<table border=\"1\" class=\"dataframe\">\n",
       "  <thead>\n",
       "    <tr style=\"text-align: right;\">\n",
       "      <th></th>\n",
       "      <th>uniqueID</th>\n",
       "      <th>imageFile</th>\n",
       "      <th>imagePath</th>\n",
       "      <th>classID</th>\n",
       "    </tr>\n",
       "  </thead>\n",
       "  <tbody>\n",
       "    <tr>\n",
       "      <th>0</th>\n",
       "      <td>1</td>\n",
       "      <td>facd4dcd8e869617.jpg</td>\n",
       "      <td>/kaggle/input/bttai-nybg-2024/BTTAIxNYBG-test/...</td>\n",
       "      <td>1</td>\n",
       "    </tr>\n",
       "    <tr>\n",
       "      <th>1</th>\n",
       "      <td>9</td>\n",
       "      <td>78c96bb2b2b62579.jpg</td>\n",
       "      <td>/kaggle/input/bttai-nybg-2024/BTTAIxNYBG-test/...</td>\n",
       "      <td>7</td>\n",
       "    </tr>\n",
       "    <tr>\n",
       "      <th>2</th>\n",
       "      <td>10</td>\n",
       "      <td>d292d2c4e0e6ad9d.jpg</td>\n",
       "      <td>/kaggle/input/bttai-nybg-2024/BTTAIxNYBG-test/...</td>\n",
       "      <td>4</td>\n",
       "    </tr>\n",
       "    <tr>\n",
       "      <th>3</th>\n",
       "      <td>14</td>\n",
       "      <td>3633494929870713.jpg</td>\n",
       "      <td>/kaggle/input/bttai-nybg-2024/BTTAIxNYBG-test/...</td>\n",
       "      <td>1</td>\n",
       "    </tr>\n",
       "    <tr>\n",
       "      <th>4</th>\n",
       "      <td>16</td>\n",
       "      <td>dc94b496c8e2d6c4.jpg</td>\n",
       "      <td>/kaggle/input/bttai-nybg-2024/BTTAIxNYBG-test/...</td>\n",
       "      <td>6</td>\n",
       "    </tr>\n",
       "    <tr>\n",
       "      <th>5</th>\n",
       "      <td>24</td>\n",
       "      <td>8e82292b4945cbca.jpg</td>\n",
       "      <td>/kaggle/input/bttai-nybg-2024/BTTAIxNYBG-test/...</td>\n",
       "      <td>1</td>\n",
       "    </tr>\n",
       "    <tr>\n",
       "      <th>6</th>\n",
       "      <td>25</td>\n",
       "      <td>65f1c96cf4e064b8.jpg</td>\n",
       "      <td>/kaggle/input/bttai-nybg-2024/BTTAIxNYBG-test/...</td>\n",
       "      <td>4</td>\n",
       "    </tr>\n",
       "    <tr>\n",
       "      <th>7</th>\n",
       "      <td>26</td>\n",
       "      <td>e1a4f8f0908de9b9.jpg</td>\n",
       "      <td>/kaggle/input/bttai-nybg-2024/BTTAIxNYBG-test/...</td>\n",
       "      <td>8</td>\n",
       "    </tr>\n",
       "    <tr>\n",
       "      <th>8</th>\n",
       "      <td>28</td>\n",
       "      <td>d9594c4ecb435313.jpg</td>\n",
       "      <td>/kaggle/input/bttai-nybg-2024/BTTAIxNYBG-test/...</td>\n",
       "      <td>5</td>\n",
       "    </tr>\n",
       "    <tr>\n",
       "      <th>9</th>\n",
       "      <td>34</td>\n",
       "      <td>d44d6996ccc8e26c.jpg</td>\n",
       "      <td>/kaggle/input/bttai-nybg-2024/BTTAIxNYBG-test/...</td>\n",
       "      <td>0</td>\n",
       "    </tr>\n",
       "  </tbody>\n",
       "</table>\n",
       "</div>"
      ],
      "text/plain": [
       "   uniqueID             imageFile  \\\n",
       "0         1  facd4dcd8e869617.jpg   \n",
       "1         9  78c96bb2b2b62579.jpg   \n",
       "2        10  d292d2c4e0e6ad9d.jpg   \n",
       "3        14  3633494929870713.jpg   \n",
       "4        16  dc94b496c8e2d6c4.jpg   \n",
       "5        24  8e82292b4945cbca.jpg   \n",
       "6        25  65f1c96cf4e064b8.jpg   \n",
       "7        26  e1a4f8f0908de9b9.jpg   \n",
       "8        28  d9594c4ecb435313.jpg   \n",
       "9        34  d44d6996ccc8e26c.jpg   \n",
       "\n",
       "                                           imagePath  classID  \n",
       "0  /kaggle/input/bttai-nybg-2024/BTTAIxNYBG-test/...        1  \n",
       "1  /kaggle/input/bttai-nybg-2024/BTTAIxNYBG-test/...        7  \n",
       "2  /kaggle/input/bttai-nybg-2024/BTTAIxNYBG-test/...        4  \n",
       "3  /kaggle/input/bttai-nybg-2024/BTTAIxNYBG-test/...        1  \n",
       "4  /kaggle/input/bttai-nybg-2024/BTTAIxNYBG-test/...        6  \n",
       "5  /kaggle/input/bttai-nybg-2024/BTTAIxNYBG-test/...        1  \n",
       "6  /kaggle/input/bttai-nybg-2024/BTTAIxNYBG-test/...        4  \n",
       "7  /kaggle/input/bttai-nybg-2024/BTTAIxNYBG-test/...        8  \n",
       "8  /kaggle/input/bttai-nybg-2024/BTTAIxNYBG-test/...        5  \n",
       "9  /kaggle/input/bttai-nybg-2024/BTTAIxNYBG-test/...        0  "
      ]
     },
     "execution_count": 23,
     "metadata": {},
     "output_type": "execute_result"
    }
   ],
   "source": [
    "df_test.head(10)"
   ]
  },
  {
   "cell_type": "code",
   "execution_count": 24,
   "id": "dd596739",
   "metadata": {
    "execution": {
     "iopub.execute_input": "2024-03-24T07:55:09.579996Z",
     "iopub.status.busy": "2024-03-24T07:55:09.579276Z",
     "iopub.status.idle": "2024-03-24T07:55:09.605084Z",
     "shell.execute_reply": "2024-03-24T07:55:09.604166Z"
    },
    "papermill": {
     "duration": 3.993943,
     "end_time": "2024-03-24T07:55:09.608304",
     "exception": false,
     "start_time": "2024-03-24T07:55:05.614361",
     "status": "completed"
    },
    "tags": []
   },
   "outputs": [
    {
     "data": {
      "image/jpeg": "[encoded data removed]",
      "text/plain": [
       "<IPython.core.display.Image object>"
      ]
     },
     "metadata": {},
     "output_type": "display_data"
    }
   ],
   "source": [
    "from IPython.display import Image, display\n",
    "display(Image(filename=df_test.loc[7,'imagePath']))"
   ]
  },
  {
   "cell_type": "code",
   "execution_count": 25,
   "id": "3ebb0ad8",
   "metadata": {
    "execution": {
     "iopub.execute_input": "2024-03-24T07:55:17.789209Z",
     "iopub.status.busy": "2024-03-24T07:55:17.788856Z",
     "iopub.status.idle": "2024-03-24T07:55:17.808674Z",
     "shell.execute_reply": "2024-03-24T07:55:17.807709Z"
    },
    "papermill": {
     "duration": 4.11527,
     "end_time": "2024-03-24T07:55:17.810712",
     "exception": false,
     "start_time": "2024-03-24T07:55:13.695442",
     "status": "completed"
    },
    "tags": []
   },
   "outputs": [],
   "source": [
    "df_test.drop(labels=['imageFile', 'imagePath'], axis=1, inplace=True)"
   ]
  },
  {
   "cell_type": "code",
   "execution_count": 26,
   "id": "7d70ade0",
   "metadata": {
    "execution": {
     "iopub.execute_input": "2024-03-24T07:55:25.895500Z",
     "iopub.status.busy": "2024-03-24T07:55:25.895134Z",
     "iopub.status.idle": "2024-03-24T07:55:25.943923Z",
     "shell.execute_reply": "2024-03-24T07:55:25.942812Z"
    },
    "papermill": {
     "duration": 4.089305,
     "end_time": "2024-03-24T07:55:25.945943",
     "exception": false,
     "start_time": "2024-03-24T07:55:21.856638",
     "status": "completed"
    },
    "tags": []
   },
   "outputs": [
    {
     "name": "stdout",
     "output_type": "stream",
     "text": [
      "Submission was sucessfully submitted!\n"
     ]
    }
   ],
   "source": [
    "df_test.to_csv('/kaggle/working/submission.csv', index=False)\n",
    "print(\"Submission was sucessfully submitted!\")"
   ]
  }
 ],
 "metadata": {
  "kaggle": {
   "accelerator": "gpu",
   "dataSources": [
    {
     "databundleVersionId": 7522884,
     "sourceId": 66199,
     "sourceType": "competition"
    }
   ],
   "dockerImageVersionId": 30646,
   "isGpuEnabled": true,
   "isInternetEnabled": true,
   "language": "python",
   "sourceType": "notebook"
  },
  "kernelspec": {
   "display_name": "Python 3",
   "language": "python",
   "name": "python3"
  },
  "language_info": {
   "codemirror_mode": {
    "name": "ipython",
    "version": 3
   },
   "file_extension": ".py",
   "mimetype": "text/x-python",
   "name": "python",
   "nbconvert_exporter": "python",
   "pygments_lexer": "ipython3",
   "version": "3.10.13"
  },
  "papermill": {
   "default_parameters": {},
   "duration": 27809.622023,
   "end_time": "2024-03-24T07:55:33.298361",
   "environment_variables": {},
   "exception": null,
   "input_path": "__notebook__.ipynb",
   "output_path": "__notebook__.ipynb",
   "parameters": {},
   "start_time": "2024-03-24T00:12:03.676338",
   "version": "2.5.0"
  }
 },
 "nbformat": 4,
 "nbformat_minor": 5
}
